{
 "cells": [
  {
   "cell_type": "markdown",
   "id": "e35577e0-d419-41b4-9242-b705f62ba512",
   "metadata": {},
   "source": [
    "# ChatGPT 3.5"
   ]
  },
  {
   "cell_type": "markdown",
   "id": "2ce20781-abe3-49be-a17a-196b963a33d3",
   "metadata": {},
   "source": [
    "# Can ChatGPT detect smishing?\n",
    "In this experiment, we evaluate the capability of ChatGPT 3.5 in detecting smishing messages.\n",
    "Using the test dataset (refer to 'smishing_data.ipynb'), we prompt ChatGPT to assess whether each message is a smish or ham."
   ]
  },
  {
   "cell_type": "code",
   "execution_count": 1,
   "id": "9990391b-a2c5-411f-b2f9-36570e281dec",
   "metadata": {},
   "outputs": [],
   "source": [
    "from openai import OpenAI\n",
    "import json\n",
    "import pickle\n",
    "import time\n",
    "client = OpenAI()"
   ]
  },
  {
   "cell_type": "markdown",
   "id": "af22f5a5-1655-475b-9198-80f41fe5123a",
   "metadata": {},
   "source": [
    "### ChatGPT's understanding of the terms \"smish\" and \"ham\"."
   ]
  },
  {
   "cell_type": "markdown",
   "id": "827bbd85-b30c-472a-aa0d-5598eaecc7a7",
   "metadata": {},
   "source": [
    "First, we check if ChatGPT understands the term \"smish message\"."
   ]
  },
  {
   "cell_type": "code",
   "execution_count": 2,
   "id": "fbd24ba8-3b50-44d7-aac0-f198fe1af868",
   "metadata": {},
   "outputs": [],
   "source": [
    "smish = client.chat.completions.create(\n",
    "  model=\"gpt-3.5-turbo\",\n",
    "  messages=[\n",
    "    {\"role\": \"system\", \"content\": \"You are a cybersecurity researcher.\"},\n",
    "    {\"role\": \"user\", \"content\": \"Provide a brief definition of a 'smish' message in the context of SMS security.\"}\n",
    "  ]\n",
    ")"
   ]
  },
  {
   "cell_type": "code",
   "execution_count": 3,
   "id": "1b36c0fe-64db-4c21-a52e-d43447023df9",
   "metadata": {},
   "outputs": [
    {
     "data": {
      "text/plain": [
       "\"A 'smish' message, also known as SMS phishing, is a type of cyber attack where attackers send deceptive text messages to trick individuals into revealing sensitive information or performing harmful actions. These messages often appear as legitimate notifications from banks, service providers, or organizations, aiming to manipulate users into clicking on malicious links, downloading malware, or sharing personal information such as passwords or financial data. Smishing attacks exploit the trust and familiarity associated with text messages to deceive and compromise victims.\""
      ]
     },
     "execution_count": 3,
     "metadata": {},
     "output_type": "execute_result"
    }
   ],
   "source": [
    "smish.choices[0].message.content"
   ]
  },
  {
   "cell_type": "markdown",
   "id": "76549d15-506a-4fb0-8fba-b6479beadf8b",
   "metadata": {},
   "source": [
    "Similarily, we check if ChatGPT understands the term \"ham message\"."
   ]
  },
  {
   "cell_type": "code",
   "execution_count": 4,
   "id": "c920d0f3-f70b-4837-a8d9-8aa95182db57",
   "metadata": {},
   "outputs": [],
   "source": [
    "ham = client.chat.completions.create(\n",
    "  model=\"gpt-3.5-turbo\",\n",
    "  messages=[\n",
    "    {\"role\": \"system\", \"content\": \"You are a cybersecurity researcher.\"},\n",
    "    {\"role\": \"user\", \"content\": \"Provide a brief definition of a 'ham' message in the context of SMS security.\"}\n",
    "  ]\n",
    ")"
   ]
  },
  {
   "cell_type": "code",
   "execution_count": 5,
   "id": "da179348-0dc2-40fa-a738-da28ef55d014",
   "metadata": {},
   "outputs": [
    {
     "data": {
      "text/plain": [
       "'In the context of SMS security, a \\'ham\\' message refers to a legitimate, non-malicious message that is incorrectly identified as a spam or phishing message by a spam or fraud detection system. The term \\'ham\\' is derived from the acronym HAM, which stands for \"Harmless Advertising Message.\" Ham messages are typically benign messages such as promotional offers, notifications, or personal communication that are mistakenly flagged as spam. These false positives can occur due to various factors, including the use of certain keywords, sender reputation, or other characteristics that spam filters use to determine the legitimacy of a message.'"
      ]
     },
     "execution_count": 5,
     "metadata": {},
     "output_type": "execute_result"
    }
   ],
   "source": [
    "ham.choices[0].message.content"
   ]
  },
  {
   "cell_type": "markdown",
   "id": "7e97958b-0230-40e8-9308-0fa16ebf1758",
   "metadata": {},
   "source": [
    "### ChatGPT-based smishing detection."
   ]
  },
  {
   "cell_type": "markdown",
   "id": "1054b857-1eab-42ab-97be-8dda6ee32d6a",
   "metadata": {},
   "source": [
    "In this experiment, we prompt ChatGPT: \"Do you think it is a ham or a smish message?\".\n",
    "\n",
    "This essential question is followed by some sentences that coerce ChatGPT to output only a single word \"ham\" or \"smish\":\n",
    "\n",
    "\"Do you think it is a ham or smish message? Your output should be a single word 'smish' or 'ham'. Do not write a sentence. Output is case-sensitive.\"\n",
    "\n",
    "We need it for automation purposes."
   ]
  },
  {
   "cell_type": "code",
   "execution_count": 6,
   "id": "83d48a18-3089-47c8-88f6-b55a5e140b87",
   "metadata": {},
   "outputs": [],
   "source": [
    "# test data\n",
    "with open(\"./data/test_data.pkl\", \"rb\") as input_file:\n",
    "    test_data = pickle.load(input_file)"
   ]
  },
  {
   "cell_type": "code",
   "execution_count": 7,
   "id": "fe5de16e-e748-4df0-b35f-db0cb7f18a91",
   "metadata": {},
   "outputs": [],
   "source": [
    "X_test = test_data[\"X_test\"]\n",
    "y_test = test_data[\"y_test\"]\n",
    "\n",
    "total_hams_count = 0\n",
    "total_smishes_count = 0\n",
    "\n",
    "for label in y_test:\n",
    "    if label == \"ham\":\n",
    "        total_hams_count += 1\n",
    "    if label == \"smish\":\n",
    "        total_smishes_count += 1"
   ]
  },
  {
   "cell_type": "code",
   "execution_count": 8,
   "id": "1ac8edad-d287-49d8-b2e0-b1775a51a71d",
   "metadata": {},
   "outputs": [
    {
     "name": "stdout",
     "output_type": "stream",
     "text": [
      "There is 954 hams and 161 smishes in the test dataset.\n"
     ]
    }
   ],
   "source": [
    "print(\"There is {} hams and {} smishes in the test dataset.\".format(total_hams_count, total_smishes_count))"
   ]
  },
  {
   "cell_type": "code",
   "execution_count": 9,
   "id": "9ccf17af-220e-4e03-81cc-848a64cd024c",
   "metadata": {},
   "outputs": [
    {
     "name": "stdout",
     "output_type": "stream",
     "text": [
      "WARNING: 4 errors\n"
     ]
    }
   ],
   "source": [
    "false_hams_indicies = []\n",
    "false_smishes_indicies = []\n",
    "false_hams_count = 0\n",
    "false_smishes_count = 0\n",
    "true_hams_count = 0\n",
    "true_smishes_count = 0\n",
    "errors_count = 0\n",
    "errors_indicies = []\n",
    "errors = []\n",
    "\n",
    "\n",
    "for i in range(len(X_test)):\n",
    "    prompt = \"\"\"Do you think it is a ham or smish message?\n",
    "    Your output should be a single word 'smish' or 'ham'.\n",
    "    Do not write a sentence.\n",
    "    Output is case-sensitive.\n",
    "    \n",
    "    {}\n",
    "    \"\"\".format(X_test[i])\n",
    "\n",
    "    completion = client.chat.completions.create(\n",
    "      model=\"gpt-3.5-turbo\",\n",
    "      messages=[\n",
    "        {\"role\": \"user\", \n",
    "         \"content\": prompt\n",
    "        }\n",
    "      ]\n",
    "    )\n",
    "\n",
    "    answer = completion.choices[0].message.content\n",
    "\n",
    "    if answer not in [\"ham\", \"smish\"]:\n",
    "        errors_count += 1\n",
    "        errors_indicies.append(i)\n",
    "        errors.append(answer)\n",
    "        continue\n",
    "    elif answer == \"ham\" and y_test[i] == \"ham\": # correctly recognized as a ham\n",
    "        true_hams_count += 1\n",
    "    elif answer == \"smish\" and y_test[i] == \"smish\": # correctly recognized as a smish\n",
    "        true_smishes_count += 1\n",
    "    elif answer == \"ham\" and y_test[i] == \"smish\": # wrongly recognized as a ham\n",
    "        false_hams_indicies.append(i)\n",
    "        false_hams_count += 1\n",
    "    elif answer == \"smish\" and y_test[i] == \"ham\": # wrongly recognized as a smish\n",
    "        false_smishes_indicies.append(i)\n",
    "        false_smishes_count += 1\n",
    "\n",
    "    time.sleep(0.5) # because of API limits (500 requests per minute and 60 000 tokens per minute)\n",
    "        \n",
    "# errors warning   \n",
    "if errors_count != 0:\n",
    "    if errors_count == 1:\n",
    "        print(\"WARNING: {} error\".format(errors_count))\n",
    "    else:\n",
    "        print(\"WARNING: {} errors\".format(errors_count))\n",
    "\n",
    "# save results for further analysis\n",
    "results = {\"FN\" : false_hams_count, \"FP\" : false_smishes_count, \n",
    "           \"TN\" : true_hams_count, \"TP\" : true_smishes_count,\n",
    "           \"FN_indicies\" : false_hams_indicies, \"FP_indicies\" : false_smishes_indicies,\n",
    "            \"errors_count\" : errors_count, \"errors\" : errors, \"errors_indicies\" : errors_indicies}\n",
    "\n",
    "with open(\"./results/results_chatGPT_3_5.pkl\", 'wb') as handle:\n",
    "    pickle.dump(results, handle, protocol=pickle.HIGHEST_PROTOCOL)"
   ]
  },
  {
   "cell_type": "markdown",
   "id": "144bbca8-a75e-4118-bf7d-cf4aa668fdc3",
   "metadata": {},
   "source": [
    "### The performance of ChatGPT in smishing detection."
   ]
  },
  {
   "cell_type": "code",
   "execution_count": 10,
   "id": "4bcbec65-f40d-46d1-a5e1-3fa9562c9e5e",
   "metadata": {},
   "outputs": [],
   "source": [
    "FN = false_hams_count     #FN - messages wrongly recognized as not smishes (hams)\n",
    "FP = false_smishes_count  #FP - messages wrongly recognized as smishes\n",
    "TN = true_hams_count      #TN - messages correctly recognized as not smishes (hams)\n",
    "TP = true_smishes_count   #TP - messages correctly recognized as smishes\n",
    "TOTAL = FN + FP + TN + TP"
   ]
  },
  {
   "cell_type": "code",
   "execution_count": 11,
   "id": "9bac77c1-7996-45a2-8265-8a55b1002e5b",
   "metadata": {},
   "outputs": [
    {
     "name": "stdout",
     "output_type": "stream",
     "text": [
      "Messages wrongly recognized as hams: 3.96%\n",
      "Messages wrongly recognized as smishes: 27.27%\n",
      "Messages correctly recognized as hams: 58.51%\n",
      "Messages correctly recognized as smishes: 10.26%\n"
     ]
    }
   ],
   "source": [
    "print(\"Messages wrongly recognized as hams: {0:.2f}%\".format(FN / TOTAL * 100))\n",
    "print(\"Messages wrongly recognized as smishes: {0:.2f}%\".format(FP / TOTAL * 100))\n",
    "print(\"Messages correctly recognized as hams: {0:.2f}%\".format(TN / TOTAL * 100))\n",
    "print(\"Messages correctly recognized as smishes: {0:.2f}%\".format(TP / TOTAL * 100))"
   ]
  },
  {
   "cell_type": "markdown",
   "id": "b7cb4150-7fea-419e-a11b-ff32a0c7033d",
   "metadata": {},
   "source": [
    "#### Accuracy"
   ]
  },
  {
   "cell_type": "code",
   "execution_count": 12,
   "id": "9e0d2a68-762c-4da3-89b9-2a406726b4f8",
   "metadata": {},
   "outputs": [
    {
     "name": "stdout",
     "output_type": "stream",
     "text": [
      "68.77%\n"
     ]
    }
   ],
   "source": [
    "accuracy = (TP + TN) / TOTAL\n",
    "print(\"{0:.2f}%\".format(accuracy * 100))"
   ]
  },
  {
   "cell_type": "markdown",
   "id": "e83f4f9c-ad49-4b95-808a-ceae6c1da16b",
   "metadata": {},
   "source": [
    "#### Recall"
   ]
  },
  {
   "cell_type": "code",
   "execution_count": 13,
   "id": "e006b813-b823-40d2-8b27-72beb9f874c6",
   "metadata": {},
   "outputs": [
    {
     "name": "stdout",
     "output_type": "stream",
     "text": [
      "72.15%\n"
     ]
    }
   ],
   "source": [
    "recall = TP / (TP + FN)\n",
    "print(\"{0:.2f}%\".format(recall * 100))"
   ]
  },
  {
   "cell_type": "markdown",
   "id": "632c6642-657e-46e3-b158-b1ddb4bf2ce8",
   "metadata": {},
   "source": [
    "#### Precision"
   ]
  },
  {
   "cell_type": "code",
   "execution_count": 14,
   "id": "4ef8ca93-5f00-41cb-bd2d-640e5505ab77",
   "metadata": {},
   "outputs": [
    {
     "name": "stdout",
     "output_type": "stream",
     "text": [
      "27.34%\n"
     ]
    }
   ],
   "source": [
    "precision = TP / (TP + FP)\n",
    "print(\"{0:.2f}%\".format(precision * 100))"
   ]
  },
  {
   "cell_type": "markdown",
   "id": "84a2fa2b-0a96-4946-a259-ffb05a8e5f1e",
   "metadata": {},
   "source": [
    "#### F1 score"
   ]
  },
  {
   "cell_type": "code",
   "execution_count": 15,
   "id": "ca1208b3-bb27-4e81-a760-1be071b8659d",
   "metadata": {},
   "outputs": [
    {
     "name": "stdout",
     "output_type": "stream",
     "text": [
      "39.65%\n"
     ]
    }
   ],
   "source": [
    "F1_score = TP / (TP + (FP + FN) / 2)\n",
    "print(\"{0:.2f}%\".format(F1_score * 100))"
   ]
  }
 ],
 "metadata": {
  "kernelspec": {
   "display_name": "Python 3 (ipykernel)",
   "language": "python",
   "name": "python3"
  },
  "language_info": {
   "codemirror_mode": {
    "name": "ipython",
    "version": 3
   },
   "file_extension": ".py",
   "mimetype": "text/x-python",
   "name": "python",
   "nbconvert_exporter": "python",
   "pygments_lexer": "ipython3",
   "version": "3.10.11"
  }
 },
 "nbformat": 4,
 "nbformat_minor": 5
}
