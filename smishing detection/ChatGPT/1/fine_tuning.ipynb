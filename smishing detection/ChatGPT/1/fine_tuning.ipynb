{
 "cells": [
  {
   "cell_type": "markdown",
   "id": "aab0b5d8-a7a6-45e2-806b-ad5db68f89c6",
   "metadata": {},
   "source": [
    "# ChatGPT fine-tuning for smishing detection"
   ]
  },
  {
   "cell_type": "code",
   "execution_count": 1,
   "id": "ffce83e4-45c0-466b-9bd7-e9199100b23b",
   "metadata": {},
   "outputs": [],
   "source": [
    "from openai import OpenAI\n",
    "import json\n",
    "import pickle\n",
    "import time\n",
    "client = OpenAI()"
   ]
  },
  {
   "cell_type": "markdown",
   "id": "121003ca-2f57-4d5e-bbfd-7caca8519c90",
   "metadata": {},
   "source": [
    "### Fine-tuning input file with the train dataset"
   ]
  },
  {
   "cell_type": "code",
   "execution_count": 2,
   "id": "ef126950-fa21-4b7a-b314-23db3d57d41b",
   "metadata": {},
   "outputs": [],
   "source": [
    "# train data\n",
    "with open(\"./data/train_data.pkl\", \"rb\") as input_file:\n",
    "    train_data = pickle.load(input_file)"
   ]
  },
  {
   "cell_type": "code",
   "execution_count": 3,
   "id": "75ee3850-1b3a-4c66-a932-1133cfe6d8d0",
   "metadata": {},
   "outputs": [],
   "source": [
    "X_train = train_data[\"X_train\"]\n",
    "y_train = train_data[\"y_train\"]\n",
    "\n",
    "total_hams_count = 0\n",
    "total_smishes_count = 0\n",
    "\n",
    "for label in y_train:\n",
    "    if label == \"ham\":\n",
    "        total_hams_count += 1\n",
    "    if label == \"smish\":\n",
    "        total_smishes_count += 1"
   ]
  },
  {
   "cell_type": "code",
   "execution_count": 4,
   "id": "a3bb8241-ca55-4634-b9fb-b9ed7580521b",
   "metadata": {},
   "outputs": [
    {
     "name": "stdout",
     "output_type": "stream",
     "text": [
      "There is 3873 hams and 586 smishes in the train dataset.\n"
     ]
    }
   ],
   "source": [
    "print(\"There is {} hams and {} smishes in the train dataset.\".format(total_hams_count, total_smishes_count))"
   ]
  },
  {
   "cell_type": "code",
   "execution_count": 5,
   "id": "447798e1-4ad9-4c87-8aba-14b15c5f3b13",
   "metadata": {},
   "outputs": [],
   "source": [
    "for i in range(len(X_train)):\n",
    "    user_content = \"\"\"Do you think it is a ham or smish message?\n",
    "    Your output should be a single word 'smish' or 'ham'.\n",
    "    Do not write a sentence.\n",
    "    Output is case-sensitive.\n",
    "    \n",
    "    {}\n",
    "    \"\"\".format(X_train[i])\n",
    "    assistant_content = y_train[i]\n",
    "    messages = {\"messages\": [{\"role\": \"user\", \"content\": user_content}, \n",
    "                             {\"role\": \"assistant\", \"content\": assistant_content}]}\n",
    "     \n",
    "    messages_json = json.dumps(messages)\n",
    "\n",
    "    with open(\"./data/fine_tuning_data.json\", \"a\") as fine_tuning_data:\n",
    "        fine_tuning_data.write(messages_json + \"\\n\")"
   ]
  },
  {
   "cell_type": "markdown",
   "id": "7c6a554e-8201-491c-9c9c-cff6b3c93e58",
   "metadata": {},
   "source": [
    "### Fine tuning data format validation"
   ]
  },
  {
   "cell_type": "markdown",
   "id": "aefe5770-f6c9-4be5-8b68-f345b3653196",
   "metadata": {},
   "source": [
    "Source: https://cookbook.openai.com/examples/chat_finetuning_data_prep"
   ]
  },
  {
   "cell_type": "code",
   "execution_count": 6,
   "id": "c80b972c-f0e7-4cb4-b90f-d47d8d0a7425",
   "metadata": {},
   "outputs": [
    {
     "name": "stdout",
     "output_type": "stream",
     "text": [
      "Num examples: 4459\n",
      "First example:\n",
      "{'role': 'user', 'content': \"Do you think it is a ham or smish message?\\n    Your output should be a single word 'smish' or 'ham'.\\n    Do not write a sentence.\\n    Output is case-sensitive.\\n    \\n    FREE2DAY sexy St George's Day pic of Jordan!Txt PIC to 89080 dont miss out, then every wk a saucy celeb!4 more pics c PocketBabe.co.uk 0870241182716 Â£3/wk\\n    \"}\n",
      "{'role': 'assistant', 'content': 'smish'}\n"
     ]
    }
   ],
   "source": [
    "# source: https://cookbook.openai.com/examples/chat_finetuning_data_prep\n",
    "data_path = \"./data/fine_tuning_data.json\"\n",
    "\n",
    "# Load the dataset\n",
    "with open(data_path, 'r', encoding='utf-8') as f:\n",
    "    dataset = [json.loads(line) for line in f]\n",
    "\n",
    "# Initial dataset stats\n",
    "print(\"Num examples:\", len(dataset))\n",
    "print(\"First example:\")\n",
    "for message in dataset[0][\"messages\"]:\n",
    "    print(message)"
   ]
  },
  {
   "cell_type": "code",
   "execution_count": 7,
   "id": "03350a8d-4165-4c21-9e3e-1539d2b04032",
   "metadata": {},
   "outputs": [
    {
     "name": "stdout",
     "output_type": "stream",
     "text": [
      "No errors found\n"
     ]
    }
   ],
   "source": [
    "# source: https://cookbook.openai.com/examples/chat_finetuning_data_prep\n",
    "from collections import defaultdict\n",
    "\n",
    "# Format error checks\n",
    "format_errors = defaultdict(int)\n",
    "\n",
    "for ex in dataset:\n",
    "    if not isinstance(ex, dict):\n",
    "        format_errors[\"data_type\"] += 1\n",
    "        continue\n",
    "        \n",
    "    messages = ex.get(\"messages\", None)\n",
    "    if not messages:\n",
    "        format_errors[\"missing_messages_list\"] += 1\n",
    "        continue\n",
    "        \n",
    "    for message in messages:\n",
    "        if \"role\" not in message or \"content\" not in message:\n",
    "            format_errors[\"message_missing_key\"] += 1\n",
    "        \n",
    "        if any(k not in (\"role\", \"content\", \"name\", \"function_call\") for k in message):\n",
    "            format_errors[\"message_unrecognized_key\"] += 1\n",
    "        \n",
    "        if message.get(\"role\", None) not in (\"system\", \"user\", \"assistant\", \"function\"):\n",
    "            format_errors[\"unrecognized_role\"] += 1\n",
    "            \n",
    "        content = message.get(\"content\", None)\n",
    "        function_call = message.get(\"function_call\", None)\n",
    "        \n",
    "        if (not content and not function_call) or not isinstance(content, str):\n",
    "            format_errors[\"missing_content\"] += 1\n",
    "    \n",
    "    if not any(message.get(\"role\", None) == \"assistant\" for message in messages):\n",
    "        format_errors[\"example_missing_assistant_message\"] += 1\n",
    "\n",
    "if format_errors:\n",
    "    print(\"Found errors:\")\n",
    "    for k, v in format_errors.items():\n",
    "        print(f\"{k}: {v}\")\n",
    "else:\n",
    "    print(\"No errors found\")"
   ]
  },
  {
   "cell_type": "markdown",
   "id": "e70f0816-cf2f-44e9-a6d0-162430432c9c",
   "metadata": {},
   "source": [
    "### Creating fine-tuning job"
   ]
  },
  {
   "cell_type": "code",
   "execution_count": 8,
   "id": "7b3883c4-68ac-4da7-bb95-d9375b33cc5b",
   "metadata": {},
   "outputs": [
    {
     "data": {
      "text/plain": [
       "FileObject(id='file-JJcljNgAXqK5DBWPoEJ5EyDD', bytes=1568253, created_at=1705889196, filename='fine_tuning_data.json', object='file', purpose='fine-tune', status='processed', status_details=None)"
      ]
     },
     "execution_count": 8,
     "metadata": {},
     "output_type": "execute_result"
    }
   ],
   "source": [
    "client.files.create(\n",
    "  file=open(\"./data/fine_tuning_data.json\", \"rb\"),\n",
    "  purpose=\"fine-tune\"\n",
    ")"
   ]
  },
  {
   "cell_type": "markdown",
   "id": "954eff2c-175d-4d48-8383-2ce6a2b70a65",
   "metadata": {},
   "source": [
    "##### ChatGPT 3.5"
   ]
  },
  {
   "cell_type": "code",
   "execution_count": 9,
   "id": "465a2b3e-3212-4e8c-8f5f-f2f95a89f6bf",
   "metadata": {},
   "outputs": [
    {
     "data": {
      "text/plain": [
       "FineTuningJob(id='ftjob-9TTYC2UpaS4UK2EqpxOEhXp8', created_at=1705889245, error=None, fine_tuned_model=None, finished_at=None, hyperparameters=Hyperparameters(n_epochs='auto', batch_size='auto', learning_rate_multiplier='auto'), model='gpt-3.5-turbo-0613', object='fine_tuning.job', organization_id='org-Dd5j4OKgmIVEpx7Sdr8jsS4u', result_files=[], status='validating_files', trained_tokens=None, training_file='file-JJcljNgAXqK5DBWPoEJ5EyDD', validation_file=None)"
      ]
     },
     "execution_count": 9,
     "metadata": {},
     "output_type": "execute_result"
    }
   ],
   "source": [
    "client.fine_tuning.jobs.create(\n",
    "  training_file=\"file-JJcljNgAXqK5DBWPoEJ5EyDD\",\n",
    "  model=\"gpt-3.5-turbo\",\n",
    "  suffix=\"smishing_detection\"\n",
    ")"
   ]
  },
  {
   "cell_type": "markdown",
   "id": "8f5a0c34-3b99-4054-8143-9c0431f1dc64",
   "metadata": {},
   "source": [
    "###### Model name: ft:gpt-3.5-turbo-0613:personal:smishing-detection:8jf7LHPv"
   ]
  },
  {
   "cell_type": "markdown",
   "id": "b423906e-70c4-4d6e-8f7b-babf49a9e52c",
   "metadata": {},
   "source": [
    "###### epochs: 3, tokens: 352087, time: ~1h 11min, cost: ~8.45$"
   ]
  },
  {
   "cell_type": "markdown",
   "id": "f136c042-dc68-4dd0-be15-9656f2d1f749",
   "metadata": {},
   "source": [
    "##### ChatGPT 4"
   ]
  },
  {
   "cell_type": "markdown",
   "id": "c77aa518-c358-487a-9967-4939bf355ba1",
   "metadata": {},
   "source": [
    "For now, fine-tuning for GPT-4 is available only for eligible users."
   ]
  }
 ],
 "metadata": {
  "kernelspec": {
   "display_name": "Python 3 (ipykernel)",
   "language": "python",
   "name": "python3"
  },
  "language_info": {
   "codemirror_mode": {
    "name": "ipython",
    "version": 3
   },
   "file_extension": ".py",
   "mimetype": "text/x-python",
   "name": "python",
   "nbconvert_exporter": "python",
   "pygments_lexer": "ipython3",
   "version": "3.10.11"
  }
 },
 "nbformat": 4,
 "nbformat_minor": 5
}
