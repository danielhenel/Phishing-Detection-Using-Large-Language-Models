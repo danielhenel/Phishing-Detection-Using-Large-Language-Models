{
 "cells": [
  {
   "cell_type": "markdown",
   "id": "e35577e0-d419-41b4-9242-b705f62ba512",
   "metadata": {},
   "source": [
    "# ChatGPT 4"
   ]
  },
  {
   "cell_type": "markdown",
   "id": "2ce20781-abe3-49be-a17a-196b963a33d3",
   "metadata": {},
   "source": [
    "# Can ChatGPT detect smishing?\n",
    "In this experiment, we evaluate the capability of ChatGPT 4 in detecting smishing messages.\n",
    "Using the test dataset (refer to 'smishing_data.ipynb'), we prompt ChatGPT to assess whether each message is a smish or ham."
   ]
  },
  {
   "cell_type": "code",
   "execution_count": 1,
   "id": "9990391b-a2c5-411f-b2f9-36570e281dec",
   "metadata": {},
   "outputs": [],
   "source": [
    "from openai import OpenAI\n",
    "import json\n",
    "import pickle\n",
    "import time\n",
    "client = OpenAI()"
   ]
  },
  {
   "cell_type": "markdown",
   "id": "af22f5a5-1655-475b-9198-80f41fe5123a",
   "metadata": {},
   "source": [
    "### ChatGPT's understanding of the terms \"smish\" and \"ham\"."
   ]
  },
  {
   "cell_type": "markdown",
   "id": "827bbd85-b30c-472a-aa0d-5598eaecc7a7",
   "metadata": {},
   "source": [
    "First, we check if ChatGPT understands the term \"smish message\"."
   ]
  },
  {
   "cell_type": "code",
   "execution_count": 2,
   "id": "fbd24ba8-3b50-44d7-aac0-f198fe1af868",
   "metadata": {},
   "outputs": [],
   "source": [
    "smish = client.chat.completions.create(\n",
    "  model=\"gpt-4-1106-preview\",\n",
    "  messages=[\n",
    "    {\"role\": \"system\", \"content\": \"You are a cybersecurity researcher.\"},\n",
    "    {\"role\": \"user\", \"content\": \"Provide a brief definition of a 'smish' message in the context of SMS security.\"}\n",
    "  ]\n",
    ")"
   ]
  },
  {
   "cell_type": "code",
   "execution_count": 3,
   "id": "1b36c0fe-64db-4c21-a52e-d43447023df9",
   "metadata": {},
   "outputs": [
    {
     "data": {
      "text/plain": [
       "'A \"smish\" message, stemming from the combination of \"SMS\" and \"phishing,\" refers to a type of security attack carried out through text messages (SMS). The objective is to deceive the recipient into believing the message is from a trustworthy source and to trick them into providing sensitive information, such as passwords, credit card numbers, or other personal details. Smish messages often contain links to malicious websites or requests for the recipient to reply with private information. The term can also be extended to similar phishing attacks via other messaging platforms.'"
      ]
     },
     "execution_count": 3,
     "metadata": {},
     "output_type": "execute_result"
    }
   ],
   "source": [
    "smish.choices[0].message.content"
   ]
  },
  {
   "cell_type": "markdown",
   "id": "76549d15-506a-4fb0-8fba-b6479beadf8b",
   "metadata": {},
   "source": [
    "Similarily, we check if ChatGPT understands the term \"ham message\"."
   ]
  },
  {
   "cell_type": "code",
   "execution_count": 4,
   "id": "c920d0f3-f70b-4837-a8d9-8aa95182db57",
   "metadata": {},
   "outputs": [],
   "source": [
    "ham = client.chat.completions.create(\n",
    "  model=\"gpt-4-1106-preview\",\n",
    "  messages=[\n",
    "    {\"role\": \"system\", \"content\": \"You are a cybersecurity researcher.\"},\n",
    "    {\"role\": \"user\", \"content\": \"Provide a brief definition of a 'ham' message in the context of SMS security.\"}\n",
    "  ]\n",
    ")"
   ]
  },
  {
   "cell_type": "code",
   "execution_count": 5,
   "id": "da179348-0dc2-40fa-a738-da28ef55d014",
   "metadata": {},
   "outputs": [
    {
     "data": {
      "text/plain": [
       "'In the context of SMS security, a \"ham\" message refers to a legitimate and non-malicious text message, as opposed to \"spam\" which is unsolicited and often contains harmful content or links. Ham messages are the type of messages that the user expects to receive and wants, such as personal messages from friends and family, informational messages from service providers, or alerts they have opted into. As cybersecurity professionals work to filter out spam and malicious content, they aim to ensure that ham messages are delivered to the user without interruption.'"
      ]
     },
     "execution_count": 5,
     "metadata": {},
     "output_type": "execute_result"
    }
   ],
   "source": [
    "ham.choices[0].message.content"
   ]
  },
  {
   "cell_type": "markdown",
   "id": "7e97958b-0230-40e8-9308-0fa16ebf1758",
   "metadata": {},
   "source": [
    "### ChatGPT-based smishing detection."
   ]
  },
  {
   "cell_type": "markdown",
   "id": "1054b857-1eab-42ab-97be-8dda6ee32d6a",
   "metadata": {},
   "source": [
    "In this experiment, we prompt ChatGPT: \"Do you think it is a ham or a smish message?\".\n",
    "\n",
    "This essential question is followed by some sentences that coerce ChatGPT to output only a single word \"ham\" or \"smish\":\n",
    "\n",
    "\"Do you think it is a ham or smish message? Your output should be a single word 'smish' or 'ham'. Do not write a sentence. Output is case-sensitive.\"\n",
    "\n",
    "We need it for automation purposes."
   ]
  },
  {
   "cell_type": "code",
   "execution_count": 6,
   "id": "83d48a18-3089-47c8-88f6-b55a5e140b87",
   "metadata": {},
   "outputs": [],
   "source": [
    "# test data\n",
    "with open(\"./data/test_data.pkl\", \"rb\") as input_file:\n",
    "    test_data = pickle.load(input_file)"
   ]
  },
  {
   "cell_type": "code",
   "execution_count": 7,
   "id": "fe5de16e-e748-4df0-b35f-db0cb7f18a91",
   "metadata": {},
   "outputs": [],
   "source": [
    "X_test = test_data[\"X_test\"]\n",
    "y_test = test_data[\"y_test\"]\n",
    "\n",
    "total_hams_count = 0\n",
    "total_smishes_count = 0\n",
    "\n",
    "for label in y_test:\n",
    "    if label == \"ham\":\n",
    "        total_hams_count += 1\n",
    "    if label == \"smish\":\n",
    "        total_smishes_count += 1"
   ]
  },
  {
   "cell_type": "code",
   "execution_count": 8,
   "id": "1ac8edad-d287-49d8-b2e0-b1775a51a71d",
   "metadata": {},
   "outputs": [
    {
     "name": "stdout",
     "output_type": "stream",
     "text": [
      "There is 954 hams and 161 smishes in the test dataset.\n"
     ]
    }
   ],
   "source": [
    "print(\"There is {} hams and {} smishes in the test dataset.\".format(total_hams_count, total_smishes_count))"
   ]
  },
  {
   "cell_type": "code",
   "execution_count": 9,
   "id": "9ccf17af-220e-4e03-81cc-848a64cd024c",
   "metadata": {},
   "outputs": [
    {
     "name": "stdout",
     "output_type": "stream",
     "text": [
      "WARNING: 3 errors\n"
     ]
    }
   ],
   "source": [
    "false_hams_indicies = []\n",
    "false_smishes_indicies = []\n",
    "false_hams_count = 0\n",
    "false_smishes_count = 0\n",
    "true_hams_count = 0\n",
    "true_smishes_count = 0\n",
    "errors_count = 0\n",
    "errors_indicies = []\n",
    "errors = []\n",
    "\n",
    "\n",
    "for i in range(len(X_test)):\n",
    "    prompt = \"\"\"Do you think it is a ham or smish message?\n",
    "    Your output should be a single word 'smish' or 'ham'.\n",
    "    Do not write a sentence.\n",
    "    Output is case-sensitive.\n",
    "    \n",
    "    {}\n",
    "    \"\"\".format(X_test[i])\n",
    "\n",
    "    completion = client.chat.completions.create(\n",
    "      model=\"gpt-4-1106-preview\",\n",
    "      messages=[\n",
    "        {\"role\": \"user\", \n",
    "         \"content\": prompt\n",
    "        }\n",
    "      ]\n",
    "    )\n",
    "\n",
    "    answer = completion.choices[0].message.content\n",
    "\n",
    "    if answer not in [\"ham\", \"smish\"]:\n",
    "        errors_count += 1\n",
    "        errors_indicies.append(i)\n",
    "        errors.append(answer)\n",
    "        continue\n",
    "    elif answer == \"ham\" and y_test[i] == \"ham\": # correctly recognized as a ham\n",
    "        true_hams_count += 1\n",
    "    elif answer == \"smish\" and y_test[i] == \"smish\": # correctly recognized as a smish\n",
    "        true_smishes_count += 1\n",
    "    elif answer == \"ham\" and y_test[i] == \"smish\": # wrongly recognized as a ham\n",
    "        false_hams_indicies.append(i)\n",
    "        false_hams_count += 1\n",
    "    elif answer == \"smish\" and y_test[i] == \"ham\": # wrongly recognized as a smish\n",
    "        false_smishes_indicies.append(i)\n",
    "        false_smishes_count += 1\n",
    "\n",
    "    time.sleep(0.5) # because of API limits (500 requests per minute and 150 000 tokens per minute)\n",
    "        \n",
    "# errors warning   \n",
    "if errors_count != 0:\n",
    "    if errors_count == 1:\n",
    "        print(\"WARNING: {} error\".format(errors_count))\n",
    "    else:\n",
    "        print(\"WARNING: {} errors\".format(errors_count))\n",
    "\n",
    "# save results for further analysis\n",
    "results = {\"FN\" : false_hams_count, \"FP\" : false_smishes_count, \n",
    "           \"TN\" : true_hams_count, \"TP\" : true_smishes_count,\n",
    "           \"FN_indicies\" : false_hams_indicies, \"FP_indicies\" : false_smishes_indicies,\n",
    "            \"errors_count\" : errors_count, \"errors\" : errors, \"errors_indicies\" : errors_indicies}\n",
    "\n",
    "with open(\"./results/results_chatGPT_4.pkl\", 'wb') as handle:\n",
    "    pickle.dump(results, handle, protocol=pickle.HIGHEST_PROTOCOL)"
   ]
  },
  {
   "cell_type": "markdown",
   "id": "144bbca8-a75e-4118-bf7d-cf4aa668fdc3",
   "metadata": {},
   "source": [
    "### The performance of ChatGPT in smishing detection."
   ]
  },
  {
   "cell_type": "code",
   "execution_count": 1,
   "id": "61ca6c28",
   "metadata": {},
   "outputs": [
    {
     "name": "stdout",
     "output_type": "stream",
     "text": [
      "TP: 150, TN: 926, FP: 25, FN: 11, ERRORS: 3\n",
      "accuracy of acceptable answers only: 96.76%, general accuracy: 96.50%\n",
      "F1 score of acceptable answers only: 89.29%, general F1 score: 89.05%\n"
     ]
    }
   ],
   "source": [
    "import pickle\n",
    "with open(\"./results/results_chatGPT_4.pkl\", \"rb\") as input_file:\n",
    "    results = pickle.load(input_file)\n",
    "\n",
    "FN = results['FN']  #FN - messages wrongly recognized as not smishes (hams)\n",
    "FP = results['FP']  #FP - messages wrongly recognized as smishes\n",
    "TN = results['TN']  #TN - messages correctly recognized as not smishes (hams)\n",
    "TP = results['TP']  #TP - messages correctly recognized as smishes\n",
    "ERRORS = results['errors_count']  #ERRORS - non-acceptable answers\n",
    "TOTAL = FN + FP + TN + TP\n",
    "    \n",
    "TP = results['TP']\n",
    "TN = results['TN']\n",
    "FP = results['FP']\n",
    "FN = results['FN']\n",
    "ERRORS = results['errors_count']\n",
    "TOTAL = FN + FP + TN + TP\n",
    "\n",
    "print(\"TP: {}, TN: {}, FP: {}, FN: {}, ERRORS: {}\".format(TP,TN,FP,FN,ERRORS))\n",
    "\n",
    "accuracy_acc = ((TP + TN) / TOTAL)\n",
    "accuracy_gen = ((TP + TN) / TOTAL) * (TOTAL / (TOTAL + ERRORS))\n",
    "print(\"accuracy of acceptable answers only: {0:.2f}%, general accuracy: {1:.2f}%\".format(accuracy_acc * 100, accuracy_gen * 100))\n",
    "\n",
    "F1_score_acc = TP / (TP + (FP + FN) / 2)\n",
    "F1_score_gen = TP / (TP + (FP + FN) / 2) * (TOTAL / (TOTAL + ERRORS))\n",
    "print(\"F1 score of acceptable answers only: {0:.2f}%, general F1 score: {1:.2f}%\".format(F1_score_acc * 100, F1_score_gen * 100))"
   ]
  }
 ],
 "metadata": {
  "kernelspec": {
   "display_name": "Python 3 (ipykernel)",
   "language": "python",
   "name": "python3"
  },
  "language_info": {
   "codemirror_mode": {
    "name": "ipython",
    "version": 3
   },
   "file_extension": ".py",
   "mimetype": "text/x-python",
   "name": "python",
   "nbconvert_exporter": "python",
   "pygments_lexer": "ipython3",
   "version": "3.12.4"
  }
 },
 "nbformat": 4,
 "nbformat_minor": 5
}
