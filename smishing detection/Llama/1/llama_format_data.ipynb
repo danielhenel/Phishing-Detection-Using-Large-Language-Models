{
 "cells": [
  {
   "cell_type": "code",
   "execution_count": 1,
   "metadata": {},
   "outputs": [],
   "source": [
    "import json\n",
    "import pickle"
   ]
  },
  {
   "cell_type": "markdown",
   "metadata": {},
   "source": [
    "To ensure comparability between this experiment and [ChatGPT/1](..\\ChatGPT\\1), exactly the same test and train data are used."
   ]
  },
  {
   "cell_type": "code",
   "execution_count": 2,
   "metadata": {},
   "outputs": [
    {
     "name": "stdout",
     "output_type": "stream",
     "text": [
      "There is 3873 hams and 586 smishes in the train dataset.\n"
     ]
    }
   ],
   "source": [
    "# Load the train data from the pickle file\n",
    "with open(\"./data/train_data.pkl\", \"rb\") as input_file:\n",
    "    train_data = pickle.load(input_file)\n",
    "\n",
    "X_train = train_data[\"X_train\"]\n",
    "y_train = train_data[\"y_train\"]\n",
    "\n",
    "total_hams_count = 0\n",
    "total_smishes_count = 0\n",
    "\n",
    "for label in y_train:\n",
    "    if label == \"ham\":\n",
    "        total_hams_count += 1\n",
    "    if label == \"smish\":\n",
    "        total_smishes_count += 1\n",
    "\n",
    "print(\"There is {} hams and {} smishes in the train dataset.\".format(total_hams_count, total_smishes_count))\n",
    "\n"
   ]
  },
  {
   "cell_type": "markdown",
   "metadata": {},
   "source": [
    "Format the data inline with [the Llama 2 required format](https://llama.meta.com/docs/model-cards-and-prompt-formats/meta-llama-2/): \n",
    "```\n",
    "<s>[INST] <<SYS>>\n",
    "{{ system_prompt }}\n",
    "<</SYS>>\n",
    "{{ user_message_1 }} [/INST] {{ model_answer_1 }} </s>\n",
    "```\n",
    "*the system prompt is optional"
   ]
  },
  {
   "cell_type": "code",
   "execution_count": 3,
   "metadata": {},
   "outputs": [],
   "source": [
    "for i in range(len(X_train)):\n",
    "    messages = (\n",
    "    \"<s>[INST] Do you think it is a ham or smish message? \"\n",
    "    \"Your output should be a single word 'smish' or 'ham'. \"\n",
    "    \"Do not write a sentence. \"\n",
    "    \"Output is case-sensitive. \"\n",
    "    \"SMS content: {}\"\n",
    "    \"[/INST]{}</s>\"\n",
    "    ).format(X_train[i], y_train[i])\n",
    "\n",
    "    with open(\"./data/llama2_train_data.txt\", \"a\") as fine_tuning_data:\n",
    "        fine_tuning_data.write(messages + \"\\n\")"
   ]
  }
 ],
 "metadata": {
  "kernelspec": {
   "display_name": "ml",
   "language": "python",
   "name": "python3"
  },
  "language_info": {
   "codemirror_mode": {
    "name": "ipython",
    "version": 3
   },
   "file_extension": ".py",
   "mimetype": "text/x-python",
   "name": "python",
   "nbconvert_exporter": "python",
   "pygments_lexer": "ipython3",
   "version": "3.11.9"
  }
 },
 "nbformat": 4,
 "nbformat_minor": 2
}
